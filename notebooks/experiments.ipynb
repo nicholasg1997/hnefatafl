{
 "cells": [
  {
   "cell_type": "code",
   "id": "initial_id",
   "metadata": {
    "collapsed": true,
    "ExecuteTime": {
     "end_time": "2025-06-30T00:13:30.416604Z",
     "start_time": "2025-06-30T00:13:30.411912Z"
    }
   },
   "source": [
    "import enum\n",
    "\n",
    "class Player(enum.Enum):\n",
    "    black = 1\n",
    "    white = 2\n",
    "\n",
    "    @property\n",
    "    def other(self):\n",
    "        return Player.black if self == Player.white else Player.white\n"
   ],
   "outputs": [],
   "execution_count": 183
  },
  {
   "metadata": {
    "ExecuteTime": {
     "end_time": "2025-06-30T00:13:30.598496Z",
     "start_time": "2025-06-30T00:13:30.595032Z"
    }
   },
   "cell_type": "code",
   "source": [
    "p1 = Player.black\n",
    "p2 = Player.white\n",
    "\n",
    "assert p1.other == Player.white\n",
    "print(p1.value)"
   ],
   "id": "99675000cf5c444f",
   "outputs": [
    {
     "name": "stdout",
     "output_type": "stream",
     "text": [
      "1\n"
     ]
    }
   ],
   "execution_count": 184
  },
  {
   "metadata": {
    "ExecuteTime": {
     "end_time": "2025-06-30T00:13:30.764308Z",
     "start_time": "2025-06-30T00:13:30.759641Z"
    }
   },
   "cell_type": "code",
   "source": [
    "from collections import namedtuple\n",
    "\n",
    "class Point(namedtuple(\"Point\", \"row col\")):\n",
    "    def neighbors(self):\n",
    "        return [\n",
    "            Point(self.row - 1, self.col),  # Up\n",
    "            Point(self.row + 1, self.col),  # Down\n",
    "            Point(self.row, self.col - 1),  # Left\n",
    "            Point(self.row, self.col + 1),  # Right\n",
    "        ]\n",
    "\n",
    "    def vert_neighbors(self):\n",
    "        return [\n",
    "            Point(self.row - 1, self.col),  # Up\n",
    "            Point(self.row + 1, self.col),  # Down\n",
    "        ]\n",
    "\n",
    "    def hor_neighbors(self):\n",
    "        return [\n",
    "            Point(self.row, self.col - 1),  # Left\n",
    "            Point(self.row, self.col + 1),  # Right\n",
    "        ]\n",
    "\n",
    "    def __deepcopy__(self, memodict={}):\n",
    "        return self\n"
   ],
   "id": "572470277d7bddff",
   "outputs": [],
   "execution_count": 185
  },
  {
   "metadata": {
    "ExecuteTime": {
     "end_time": "2025-06-30T00:13:30.946936Z",
     "start_time": "2025-06-30T00:13:30.943623Z"
    }
   },
   "cell_type": "code",
   "source": [
    "point = Point(1, 2)\n",
    "\n",
    "point.neighbors()[0].col"
   ],
   "id": "b0fdd31f45a0bad9",
   "outputs": [
    {
     "data": {
      "text/plain": [
       "2"
      ]
     },
     "execution_count": 186,
     "metadata": {},
     "output_type": "execute_result"
    }
   ],
   "execution_count": 186
  },
  {
   "metadata": {
    "ExecuteTime": {
     "end_time": "2025-06-30T05:43:23.255647Z",
     "start_time": "2025-06-30T05:43:23.228519Z"
    }
   },
   "cell_type": "code",
   "source": [
    "PAWN_TO_CHAR = {\n",
    "    None: '.',\n",
    "    Player.black: 'B',\n",
    "    Player.white: 'W',\n",
    "}\n",
    "\n",
    "def print_move(board, point):\n",
    "    char = PAWN_TO_CHAR.get(board[point.row, point.col], '.')\n",
    "    print(f\"Move to {point} with pawn {char}\")\n",
    "\n",
    "def print_board(board):\n",
    "    for row in board:\n",
    "        print(' '.join(PAWN_TO_CHAR.get(cell, '.') for cell in row))\n",
    "    print()\n",
    "\n",
    "def point_from_coords(row, col):\n",
    "    return Point(row, col)\n",
    "\n",
    "def coords_from_point(point):\n",
    "    return point.row, point.col\n",
    "\n",
    "def decode(move):\n",
    "    from_row = move // (11*4*10)\n",
    "    rem = move % (11*4*10)\n",
    "\n",
    "    from_col = rem // (4*10)\n",
    "    rem = rem % (4*10)\n",
    "\n",
    "    direction = rem // 10\n",
    "    distance = (rem % 10) + 1\n",
    "\n",
    "    return from_row, from_col, direction, distance\n",
    "\n",
    "def encode(from_row, from_col, direction, distance):\n",
    "    if not (0 <= from_row < 11 and 0 <= from_col < 11):\n",
    "        raise ValueError(\"Row and column must be between 0 and 10 inclusive\")\n",
    "    if direction not in [0, 1, 2, 3]:\n",
    "        raise ValueError(\"Direction must be one of: 0 (up), 1 (down), 2 (left), 3 (right)\")\n",
    "    if not (0 <= distance <= 10):\n",
    "        raise ValueError(\"Distance must be between 0 and 10 inclusive\")\n",
    "\n",
    "    return from_row * (11 * 4 * 10) + from_col * (4 * 10) + direction * 10 + (distance - 1)\n",
    "\n",
    "\n",
    "import numpy as np\n",
    "\n",
    "EMPTY = 0\n",
    "WHITE_PAWN = 2\n",
    "BLACK_PAWN = 1\n",
    "KING = 3\n",
    "\n",
    "class Board:\n",
    "\n",
    "    def __init__(self, board_size=11):\n",
    "        assert board_size == 11, \"Currently only 11x11 board is supported\"\n",
    "        self.size = board_size\n",
    "\n",
    "    def reset(self):\n",
    "        self.set_up_board()\n",
    "        self.print_board()\n",
    "\n",
    "    def set_up_board(self):\n",
    "        self.board = np.zeros((self.size, self.size), dtype=int)\n",
    "        self.current_player = Player.black\n",
    "        self.place_king()\n",
    "        self.initialize_black()\n",
    "        self.initialize_white()\n",
    "\n",
    "    def place_king(self):\n",
    "        center = (self.size // 2)\n",
    "        center_point = Point(center, center)\n",
    "        self.board[center_point.row, center_point.col] = KING\n",
    "\n",
    "    def initialize_black(self):\n",
    "        # TODO: make the black pawn logic work with different sized boards\n",
    "        center = (self.size // 2)\n",
    "        for i in range(3, self.size - 3):\n",
    "            self.board[0, i] = BLACK_PAWN\n",
    "            self.board[self.size - 1, i] = BLACK_PAWN\n",
    "            self.board[i, 0] = BLACK_PAWN\n",
    "            self.board[i, self.size - 1] = BLACK_PAWN\n",
    "        self.board[1, center] = BLACK_PAWN\n",
    "        self.board[self.size - 2, center] = BLACK_PAWN\n",
    "        self.board[center, 1] = BLACK_PAWN\n",
    "        self.board[center, self.size - 2] = BLACK_PAWN\n",
    "\n",
    "    def initialize_white(self):\n",
    "        center = (self.size // 2)\n",
    "        center_point = Point(center, center)\n",
    "\n",
    "        pawns_to_place = (self.size + 1)\n",
    "        points = [center_point]\n",
    "\n",
    "        while pawns_to_place > 0:\n",
    "            neighbours = []\n",
    "            for x in points:\n",
    "                # Get all neighbors of the current point\n",
    "                neighbours.extend(x.neighbors())\n",
    "\n",
    "            for n in neighbours:\n",
    "                if self.is_on_board(n) and self.board[n.row, n.col] == 0:\n",
    "                    self.board[n.row, n.col] = WHITE_PAWN  # Place white pawn\n",
    "                    pawns_to_place -= 1\n",
    "                    points.append(n)\n",
    "                    if pawns_to_place == 0:\n",
    "                        break\n",
    "\n",
    "    def is_on_board(self, point):\n",
    "        return 0 <= point.row < self.size and 0 <= point.col < self.size\n",
    "\n",
    "    def get_pawn_at(self, point):\n",
    "        if not self.is_on_board(point):\n",
    "            return None\n",
    "        return self.board[point.row, point.col]\n",
    "\n",
    "    def move_pawn(self, player, move):\n",
    "        # will need to check: pawn of current player, valid move, capture logic\n",
    "        # move is legal if it doesn't go off the board and doesn't hop over another pawn\n",
    "        from_row, from_col, direction, distance = decode(move)\n",
    "        pawn = self.get_pawn_at(Point(from_row, from_col))\n",
    "        if pawn != (WHITE_PAWN if player == Player.white else BLACK_PAWN):\n",
    "            raise ValueError(\"Invalid pawn for the current player\")\n",
    "        if direction == 0:  # Up\n",
    "            new_row = from_row - distance\n",
    "            new_col = from_col\n",
    "        elif direction == 1:  # Down\n",
    "            new_row = from_row + distance\n",
    "            new_col = from_col\n",
    "        elif direction == 2:  # Left\n",
    "            new_row = from_row\n",
    "            new_col = from_col - distance\n",
    "        elif direction == 3:  # Right\n",
    "            new_row = from_row\n",
    "            new_col = from_col + distance\n",
    "        else:\n",
    "            raise ValueError(\"Invalid direction\")\n",
    "\n",
    "        new_point = Point(new_row, new_col)\n",
    "        if not self.is_on_board(new_point):\n",
    "            raise ValueError(\"Move goes off the board\")\n",
    "        if self.get_pawn_at(new_point) != EMPTY:\n",
    "            raise ValueError(\"Cannot move to a point that is already occupied by another pawn\")\n",
    "        self.board[from_row, from_col] = EMPTY\n",
    "        self.board[new_point.row, new_point.col] = pawn\n",
    "        self._check_for_capture(new_point, player)\n",
    "\n",
    "    def will_capture(self, neighbor_point, player, capture_point):\n",
    "        new_point = neighbor_point\n",
    "        if self.board[new_point.row, new_point.col] == player.value:\n",
    "            self.capture(capture_point)\n",
    "        elif not self.is_on_board(new_point):\n",
    "            self.capture(capture_point)\n",
    "\n",
    "    def capture(self, point):\n",
    "        self.board[point.row, point.col] = EMPTY\n",
    "\n",
    "\n",
    "    def _check_for_capture(self, new_point, player):\n",
    "        opponent_pawn = player.other.value\n",
    "        # Check if the new point is adjacent to an opponent's pawn\n",
    "        d = 0 # 0:up, 1:down, 2:left, 3:right\n",
    "        for neighbor in new_point.neighbors():\n",
    "            if (self.is_on_board(neighbor) and\n",
    "                    self.board[neighbor.row, neighbor.col] == opponent_pawn):\n",
    "\n",
    "                if d == 0:  # Up\n",
    "                    self.will_capture(Point(neighbor.row - 1, neighbor.col), player, neighbor)\n",
    "\n",
    "                elif d == 1:  # Down\n",
    "                    self.will_capture(Point(neighbor.row + 1, neighbor.col), player, neighbor)\n",
    "\n",
    "                elif d == 2:  # Left\n",
    "                    self.will_capture(Point(neighbor.row, neighbor.col - 1), player, neighbor)\n",
    "\n",
    "                elif d == 3:  # Right\n",
    "                    self.will_capture(Point(neighbor.row, neighbor.col + 1), player, neighbor)\n",
    "\n",
    "            d += 1\n",
    "\n",
    "\n",
    "    def get_valid_moves(self, player):\n",
    "        pass\n",
    "\n",
    "    def is_king(self, point):\n",
    "        return self.board[point.row, point.col] == KING\n",
    "\n",
    "    def print_board(self):\n",
    "        symbols = {0: '.', 1: 'B', 2: 'W', 3: 'K'}\n",
    "        for row in self.board:\n",
    "            print(' '.join(symbols[cell] for cell in row))\n",
    "        print()\n",
    "\n",
    "\n",
    "board = Board(11)\n",
    "board.reset()\n",
    "board.move_pawn(Player.black, encode(3,0, 3, 4))\n",
    "board.print_board()\n",
    "board.move_pawn(Player.black, encode(0, 6, 1, 3))\n",
    "board.print_board()\n",
    "\n",
    "\n"
   ],
   "id": "976f77a002a74b24",
   "outputs": [
    {
     "name": "stdout",
     "output_type": "stream",
     "text": [
      ". . . B B B B B . . .\n",
      ". . . . . B . . . . .\n",
      ". . . . . . . . . . .\n",
      "B . . . . W . . . . B\n",
      "B . . . W W W . . . B\n",
      "B B . W W K W W . B B\n",
      "B . . . W W W . . . B\n",
      "B . . . . W . . . . B\n",
      ". . . . . . . . . . .\n",
      ". . . . . B . . . . .\n",
      ". . . B B B B B . . .\n",
      "\n",
      ". . . B B B B B . . .\n",
      ". . . . . B . . . . .\n",
      ". . . . . . . . . . .\n",
      ". . . . B W . . . . B\n",
      "B . . . W W W . . . B\n",
      "B B . W W K W W . B B\n",
      "B . . . W W W . . . B\n",
      "B . . . . W . . . . B\n",
      ". . . . . . . . . . .\n",
      ". . . . . B . . . . .\n",
      ". . . B B B B B . . .\n",
      "\n",
      ". . . B B B . B . . .\n",
      ". . . . . B . . . . .\n",
      ". . . . . . . . . . .\n",
      ". . . . B . B . . . B\n",
      "B . . . W W W . . . B\n",
      "B B . W W K W W . B B\n",
      "B . . . W W W . . . B\n",
      "B . . . . W . . . . B\n",
      ". . . . . . . . . . .\n",
      ". . . . . B . . . . .\n",
      ". . . B B B B B . . .\n",
      "\n"
     ]
    }
   ],
   "execution_count": 199
  },
  {
   "metadata": {
    "ExecuteTime": {
     "end_time": "2025-06-30T00:13:31.472893Z",
     "start_time": "2025-06-30T00:13:31.468191Z"
    }
   },
   "cell_type": "code",
   "source": "decode(2323)",
   "id": "b94a7b36503577a9",
   "outputs": [
    {
     "data": {
      "text/plain": [
       "(5, 3, 0, 4)"
      ]
     },
     "execution_count": 188,
     "metadata": {},
     "output_type": "execute_result"
    }
   ],
   "execution_count": 188
  },
  {
   "metadata": {
    "ExecuteTime": {
     "end_time": "2025-06-29T23:09:41.627352Z",
     "start_time": "2025-06-29T23:09:41.624767Z"
    }
   },
   "cell_type": "code",
   "source": "encode(5,3,0,4)",
   "id": "6544484c6b3bde8a",
   "outputs": [
    {
     "data": {
      "text/plain": [
       "2323"
      ]
     },
     "execution_count": 156,
     "metadata": {},
     "output_type": "execute_result"
    }
   ],
   "execution_count": 156
  },
  {
   "metadata": {
    "ExecuteTime": {
     "end_time": "2025-06-29T23:08:32.922446Z",
     "start_time": "2025-06-29T23:08:32.916134Z"
    }
   },
   "cell_type": "code",
   "source": [
    "class Move:\n",
    "    def __init__(self, from_row, from_col, direction, distance):\n",
    "        pass\n",
    "\n",
    "class GameState:\n",
    "    def __init__(self, board, next_player, previous, move):\n",
    "        self.board = board\n",
    "        self.next_player = next_player\n",
    "        self.previous = previous\n",
    "        self.last_move = move\n",
    "        self.winner = None\n",
    "\n",
    "    @classmethod # why classmethod?\n",
    "    def new_game(cls):\n",
    "        return cls(Board(), Player.black, None, None)\n",
    "\n",
    "    def apply_move(self, move):\n",
    "        new_board = self.board.copy()\n",
    "        new_board.move_pawn(self.next_player, move)\n",
    "\n",
    "        next_state = GameState(new_board, self.next_player.other, self, move)\n",
    "\n",
    "        next_state.is_over()\n",
    "\n",
    "        return next_state\n",
    "\n",
    "\n",
    "    @property\n",
    "    def situation(self):\n",
    "        return self.board, self.next_player\n",
    "\n",
    "    def is_legal_move(self, move):\n",
    "        # Check if the move is legal\n",
    "        return True\n",
    "\n",
    "    def is_over(self):\n",
    "        pass\n",
    "\n",
    "    def legal_moves(self):\n",
    "        pass\n",
    "\n",
    "    def winner(self):\n",
    "        pass\n",
    "\n",
    "\n",
    "\n"
   ],
   "id": "25e88b61577112ba",
   "outputs": [],
   "execution_count": 144
  },
  {
   "metadata": {
    "ExecuteTime": {
     "end_time": "2025-06-29T23:38:05.602085Z",
     "start_time": "2025-06-29T23:38:05.598876Z"
    }
   },
   "cell_type": "code",
   "source": "",
   "id": "75fea21e5eba06dd",
   "outputs": [],
   "execution_count": null
  },
  {
   "metadata": {},
   "cell_type": "code",
   "outputs": [],
   "execution_count": null,
   "source": "",
   "id": "37094b0ec01ac137"
  }
 ],
 "metadata": {
  "kernelspec": {
   "display_name": "Python 3",
   "language": "python",
   "name": "python3"
  },
  "language_info": {
   "codemirror_mode": {
    "name": "ipython",
    "version": 2
   },
   "file_extension": ".py",
   "mimetype": "text/x-python",
   "name": "python",
   "nbconvert_exporter": "python",
   "pygments_lexer": "ipython2",
   "version": "2.7.6"
  }
 },
 "nbformat": 4,
 "nbformat_minor": 5
}
